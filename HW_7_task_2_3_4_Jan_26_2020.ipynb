{
 "cells": [
  {
   "cell_type": "markdown",
   "metadata": {},
   "source": [
    "## Урок 7 (задания 2, 3 и 4)"
   ]
  },
  {
   "cell_type": "markdown",
   "metadata": {},
   "source": [
    "#### 2. Посчитать коэффициент линейной регрессии при заработной плате (zp), используя градиентный спуск (без intercept)."
   ]
  },
  {
   "cell_type": "code",
   "execution_count": 1,
   "metadata": {},
   "outputs": [],
   "source": [
    "import numpy as np"
   ]
  },
  {
   "cell_type": "code",
   "execution_count": 2,
   "metadata": {},
   "outputs": [
    {
     "data": {
      "text/plain": [
       "array([ 35,  45, 190, 200,  40,  70,  54, 150, 120, 110])"
      ]
     },
     "execution_count": 2,
     "metadata": {},
     "output_type": "execute_result"
    }
   ],
   "source": [
    "zp = np.array([35, 45, 190, 200, 40, 70, 54, 150, 120, 110])\n",
    "zp"
   ]
  },
  {
   "cell_type": "code",
   "execution_count": 3,
   "metadata": {},
   "outputs": [
    {
     "data": {
      "text/plain": [
       "array([401, 574, 874, 919, 459, 739, 653, 902, 746, 832])"
      ]
     },
     "execution_count": 3,
     "metadata": {},
     "output_type": "execute_result"
    }
   ],
   "source": [
    "ks = np.array([401, 574, 874, 919, 459, 739, 653, 902, 746, 832])\n",
    "ks"
   ]
  },
  {
   "cell_type": "code",
   "execution_count": 4,
   "metadata": {},
   "outputs": [],
   "source": [
    "B1 = 0.1"
   ]
  },
  {
   "cell_type": "code",
   "execution_count": 5,
   "metadata": {},
   "outputs": [],
   "source": [
    "n = len(zp)"
   ]
  },
  {
   "cell_type": "code",
   "execution_count": 6,
   "metadata": {},
   "outputs": [],
   "source": [
    "def mse_(B1,ks=ks,zp=zp,n=10):\n",
    "    return np.sum((B1*zp-ks)**2)/n"
   ]
  },
  {
   "cell_type": "code",
   "execution_count": 7,
   "metadata": {},
   "outputs": [
    {
     "data": {
      "text/plain": [
       "1e-06"
      ]
     },
     "execution_count": 7,
     "metadata": {},
     "output_type": "execute_result"
    }
   ],
   "source": [
    "alpha = 1e-6\n",
    "alpha"
   ]
  },
  {
   "cell_type": "code",
   "execution_count": 8,
   "metadata": {},
   "outputs": [
    {
     "name": "stdout",
     "output_type": "stream",
     "text": [
      "Iteration: 0, B1=0.25952808, mse=493237.7212546963\n",
      "Iteration: 500, B1=5.889815595583751, mse=56516.858416040064\n",
      "Iteration: 1000, B1=5.8898204201285544, mse=56516.85841571941\n",
      "Iteration: 1500, B1=5.889820420132673, mse=56516.85841571943\n",
      "Iteration: 2000, B1=5.889820420132673, mse=56516.85841571943\n",
      "Iteration: 2500, B1=5.889820420132673, mse=56516.85841571943\n"
     ]
    }
   ],
   "source": [
    "for i in range(3000):\n",
    "    B1 -= alpha*(2/n)*np.sum((B1*zp-ks)*zp)\n",
    "    if i%500 == 0:\n",
    "        print('Iteration: {i}, B1={B1}, mse={mse}'.format(i=i, B1=B1, mse=mse_(B1)))"
   ]
  },
  {
   "cell_type": "code",
   "execution_count": 9,
   "metadata": {},
   "outputs": [
    {
     "data": {
      "image/png": "[encoded data removed]",
      "text/plain": [
       "<Figure size 432x288 with 1 Axes>"
      ]
     },
     "metadata": {
      "needs_background": "light"
     },
     "output_type": "display_data"
    }
   ],
   "source": [
    "import matplotlib.pyplot as plt\n",
    "%matplotlib inline\n",
    "plt.scatter(zp,ks)\n",
    "plt.plot(zp,B1*zp)\n",
    "plt.show()"
   ]
  },
  {
   "cell_type": "code",
   "execution_count": 10,
   "metadata": {},
   "outputs": [],
   "source": [
    "# Ответ: (угловой) коэффициент (парной) линейной регрессии B1 (без интерсепта) ~ 5.88982"
   ]
  },
  {
   "cell_type": "markdown",
   "metadata": {},
   "source": [
    "#### 3. В каких случаях для вычисления доверительных интервалов и проверки статистических гипотез используется таблица значений функции Лапласа, а в каких - таблица критических точек распределения Стьюдента?"
   ]
  },
  {
   "cell_type": "markdown",
   "metadata": {},
   "source": [
    "Ответ:"
   ]
  },
  {
   "cell_type": "markdown",
   "metadata": {},
   "source": [
    "Если известны дисперсии сравнивамемых генеральных совокупностей, то при проверке статистических гипотез используют \n",
    "табличное значение функции Лапласа. Если дисперсии генеральных совокупностей неизвестны, то используют табличное значение точек \n",
    "распределения Стьюдента.\n",
    "Источники: https://studfile.net/preview/4332699/page:26/\n",
    "           http://www.rstu.ru/metods/books/vysktv4.pdf"
   ]
  },
  {
   "cell_type": "markdown",
   "metadata": {},
   "source": [
    "#### *4. Произвести вычисления как в пункте 2, но с вычислением intercept. Учесть, что изменение коэффициентов должно производиться на каждом шаге одновременно (то есть изменение одного коэффициента не должно влиять на изменение другого во время одной итерации)."
   ]
  },
  {
   "cell_type": "markdown",
   "metadata": {},
   "source": [
    "##### Вариант 1: Вычисления на базе обучающией модели линейной регрессии"
   ]
  },
  {
   "cell_type": "code",
   "execution_count": 11,
   "metadata": {},
   "outputs": [
    {
     "name": "stdout",
     "output_type": "stream",
     "text": [
      "Slope: [2.62053888]\n",
      "Intercept: 444.17735732435955\n",
      "Root mean squared error:  6470.414201176658\n",
      "R2 score:  0.7876386635293686\n"
     ]
    },
    {
     "data": {
      "image/png": "[encoded data removed]",
      "text/plain": [
       "<Figure size 432x288 with 1 Axes>"
      ]
     },
     "metadata": {
      "needs_background": "light"
     },
     "output_type": "display_data"
    }
   ],
   "source": [
    "from sklearn.linear_model import LinearRegression\n",
    "from sklearn.metrics import mean_squared_error, r2_score\n",
    "\n",
    "# добавление \n",
    "zp = zp.reshape(-1, 1)\n",
    "\n",
    "# sckit-learn implementation\n",
    "\n",
    "# Model initialization\n",
    "regression_model = LinearRegression()\n",
    "# Fit the data(train the model)\n",
    "regression_model.fit(zp, ks)\n",
    "# Predict\n",
    "ks_predicted = regression_model.predict(zp)\n",
    "\n",
    "# model evaluation\n",
    "rmse = mean_squared_error(ks, ks_predicted)\n",
    "r2 = r2_score(ks, ks_predicted)\n",
    "\n",
    "# printing values\n",
    "print('Slope:' ,regression_model.coef_)\n",
    "print('Intercept:', regression_model.intercept_)\n",
    "print('Root mean squared error: ', rmse)\n",
    "print('R2 score: ', r2)\n",
    "\n",
    "# plotting values\n",
    "\n",
    "# data points\n",
    "plt.scatter(zp, ks, s=10)\n",
    "plt.xlabel('zp')\n",
    "plt.ylabel('ks')\n",
    "\n",
    "# predicted values\n",
    "plt.plot(zp, ks_predicted, color='r')\n",
    "plt.show()"
   ]
  },
  {
   "cell_type": "markdown",
   "metadata": {},
   "source": [
    "##### Вариант 2: на базе источника: https://medium.com/meta-design-ideas/linear-regression-by-using-gradient-descent-algorithm-your-first-step-towards-machine-learning-a9b9c0ec41b1\n"
   ]
  },
  {
   "cell_type": "code",
   "execution_count": 12,
   "metadata": {},
   "outputs": [
    {
     "name": "stdout",
     "output_type": "stream",
     "text": [
      "Starting gradient descent at a = 200, b = 1, error = 182520.1\n",
      "Running...\n",
      "After 1000 iterations a = nan, b = nan, error = nan\n"
     ]
    },
    {
     "name": "stderr",
     "output_type": "stream",
     "text": [
      "C:\\Users\\Larin-GV\\Anaconda3\\lib\\site-packages\\ipykernel_launcher.py:25: RuntimeWarning: overflow encountered in double_scalars\n",
      "C:\\Users\\Larin-GV\\Anaconda3\\lib\\site-packages\\ipykernel_launcher.py:28: RuntimeWarning: invalid value encountered in double_scalars\n"
     ]
    }
   ],
   "source": [
    "#Gradient descent algorithm for linear regression\n",
    "\n",
    "# minimize the \"sum of squared errors\". This is how we calculate and correct our error\n",
    "\n",
    "def compute_error_for_line_given_points(a,b,points):\n",
    "\n",
    "    totalError = 0 \t#sum of square error formula\n",
    "\n",
    "    for i in range (0, len(points)):\n",
    "        x = points[i, 0]\n",
    "        y = points[i, 1]\n",
    "        totalError += (y-(b*x + a)) ** 2\n",
    "    return totalError/ float(len(points))\n",
    "\n",
    "def step_gradient(a_current, b_current, points, learning_rate):\n",
    "\n",
    "    #gradient descent\n",
    "    a_gradient = 0\n",
    "    b_gradient = 0\n",
    "    N = len(points)\n",
    "    for i in range(0, len(points)):\n",
    "        x = points[i, 0]\n",
    "        y = points[i, 1]\n",
    "        a_gradient += -(2/N) * (y - (b_current * x + a_current))\n",
    "        b_gradient += -(2/N) * x * (y - (b_current * x + a_current))\n",
    "    \n",
    "    new_a = a_current - (learning_rate * a_gradient)\n",
    "    new_b = b_current - (learning_rate * b_gradient) \n",
    "    return [new_a,new_b]\n",
    "\n",
    "def gradient_descent_runner(points, starting_a, starting_b, learning_rate, num_iteartions):\n",
    "\n",
    "    a = starting_a\n",
    "    b = starting_b\n",
    "    for i in range(num_iteartions):\n",
    "        a,b = step_gradient(a, b, points, learning_rate)\n",
    "    return [a,b]\n",
    "\n",
    "def run():\n",
    "    #Step 1: Collect the data into one array\n",
    "    points = np.column_stack([zp,ks])\n",
    "    #Step 2: Define our Hyperparameters\n",
    "    learning_rate = 0.001 #how fast the data converge\n",
    "    #y=bx+a (Slope formule)\n",
    "    initial_a = 200 # initial y-intercept guess\n",
    "    initial_b = 1 # initial slope guess\n",
    "    num_iterations = 1000\n",
    "    \n",
    "    print(\"Starting gradient descent at a = {0}, b = {1}, error = {2}\".format(initial_a, initial_b, compute_error_for_line_given_points(initial_a, initial_b, points)))\n",
    "    print(\"Running...\")\n",
    "\n",
    "    [a, b] = gradient_descent_runner(points, initial_a, initial_b, learning_rate, num_iterations)\n",
    "\n",
    "    print(\"After {0} iterations a = {1}, b = {2}, error = {3}\".format(num_iterations, a, b, compute_error_for_line_given_points(a, b, points)))\n",
    "\n",
    "# main function\n",
    "if __name__ == \"__main__\":\n",
    "    run()"
   ]
  },
  {
   "cell_type": "code",
   "execution_count": null,
   "metadata": {},
   "outputs": [],
   "source": []
  },
  {
   "cell_type": "markdown",
   "metadata": {},
   "source": [
    "Резюме по задаче 4: что-то у меня с форматом данных в массиве points не так, поэтому не получается."
   ]
  }
 ],
 "metadata": {
  "kernelspec": {
   "display_name": "Python 3",
   "language": "python",
   "name": "python3"
  },
  "language_info": {
   "codemirror_mode": {
    "name": "ipython",
    "version": 3
   },
   "file_extension": ".py",
   "mimetype": "text/x-python",
   "name": "python",
   "nbconvert_exporter": "python",
   "pygments_lexer": "ipython3",
   "version": "3.7.4"
  }
 },
 "nbformat": 4,
 "nbformat_minor": 2
}
